{
 "cells": [
  {
   "cell_type": "code",
   "execution_count": 1,
   "metadata": {},
   "outputs": [],
   "source": [
    "import numpy as np\n",
    "import pandas as pd\n",
    "import itertools\n",
    "from sklearn.model_selection import train_test_split\n",
    "from sklearn.metrics import accuracy_score, precision_score, recall_score, f1_score\n",
    "\n",
    "import tensorflow as tf\n",
    "import keras\n",
    "\n",
    "from keras.layers import TextVectorization, Dense, Conv1D, Embedding, Dropout, GlobalMaxPooling1D\n",
    "from keras.preprocessing.text import Tokenizer\n",
    "from keras.utils import pad_sequences\n",
    "from keras.callbacks import EarlyStopping"
   ]
  },
  {
   "cell_type": "code",
   "execution_count": 2,
   "metadata": {},
   "outputs": [
    {
     "data": {
      "text/html": [
       "<div>\n",
       "<style scoped>\n",
       "    .dataframe tbody tr th:only-of-type {\n",
       "        vertical-align: middle;\n",
       "    }\n",
       "\n",
       "    .dataframe tbody tr th {\n",
       "        vertical-align: top;\n",
       "    }\n",
       "\n",
       "    .dataframe thead th {\n",
       "        text-align: right;\n",
       "    }\n",
       "</style>\n",
       "<table border=\"1\" class=\"dataframe\">\n",
       "  <thead>\n",
       "    <tr style=\"text-align: right;\">\n",
       "      <th></th>\n",
       "      <th>title</th>\n",
       "      <th>text</th>\n",
       "      <th>class</th>\n",
       "      <th>text_without_stopwords</th>\n",
       "      <th>title_without_stopwords</th>\n",
       "      <th>text_word_count</th>\n",
       "      <th>title_word_count</th>\n",
       "      <th>text_sentence_count</th>\n",
       "      <th>title_sentence_count</th>\n",
       "      <th>text_average_word_length</th>\n",
       "      <th>...</th>\n",
       "      <th>polarity</th>\n",
       "      <th>overall_content</th>\n",
       "      <th>Topic 1 Probability</th>\n",
       "      <th>Topic 2 Probability</th>\n",
       "      <th>Topic 3 Probbility</th>\n",
       "      <th>Topic 4 Probability</th>\n",
       "      <th>Topic 5 Probability</th>\n",
       "      <th>polarity_category</th>\n",
       "      <th>polarity_category_Neutral</th>\n",
       "      <th>polarity_category_Positive</th>\n",
       "    </tr>\n",
       "  </thead>\n",
       "  <tbody>\n",
       "    <tr>\n",
       "      <th>0</th>\n",
       "      <td>Donald Trump Sends Out Embarrassing New Year’...</td>\n",
       "      <td>Donald Trump just couldn t wish all Americans ...</td>\n",
       "      <td>1</td>\n",
       "      <td>donald trump wish americans happy new year lea...</td>\n",
       "      <td>donald trump sends out embarrassing new year’s...</td>\n",
       "      <td>516</td>\n",
       "      <td>13</td>\n",
       "      <td>28</td>\n",
       "      <td>1</td>\n",
       "      <td>4.804040</td>\n",
       "      <td>...</td>\n",
       "      <td>0.082132</td>\n",
       "      <td>donald trump sends out embarrassing new year’s...</td>\n",
       "      <td>0.002194</td>\n",
       "      <td>0.747636</td>\n",
       "      <td>0.001007</td>\n",
       "      <td>0.157660</td>\n",
       "      <td>0.091503</td>\n",
       "      <td>Positive</td>\n",
       "      <td>0</td>\n",
       "      <td>1</td>\n",
       "    </tr>\n",
       "    <tr>\n",
       "      <th>1</th>\n",
       "      <td>Drunk Bragging Trump Staffer Started Russian ...</td>\n",
       "      <td>House Intelligence Committee Chairman Devin Nu...</td>\n",
       "      <td>1</td>\n",
       "      <td>house intelligence committee chairman devin nu...</td>\n",
       "      <td>drunk bragging trump staffer started russian c...</td>\n",
       "      <td>309</td>\n",
       "      <td>9</td>\n",
       "      <td>11</td>\n",
       "      <td>1</td>\n",
       "      <td>5.213115</td>\n",
       "      <td>...</td>\n",
       "      <td>-0.005004</td>\n",
       "      <td>drunk bragging trump staffer started russian c...</td>\n",
       "      <td>0.064904</td>\n",
       "      <td>0.244962</td>\n",
       "      <td>0.557051</td>\n",
       "      <td>0.002320</td>\n",
       "      <td>0.130763</td>\n",
       "      <td>Neutral</td>\n",
       "      <td>1</td>\n",
       "      <td>0</td>\n",
       "    </tr>\n",
       "    <tr>\n",
       "      <th>2</th>\n",
       "      <td>Sheriff David Clarke Becomes An Internet Joke...</td>\n",
       "      <td>On Friday, it was revealed that former Milwauk...</td>\n",
       "      <td>1</td>\n",
       "      <td>on friday revealed former milwaukee sheriff da...</td>\n",
       "      <td>sheriff david clarke becomes an internet joke ...</td>\n",
       "      <td>600</td>\n",
       "      <td>16</td>\n",
       "      <td>25</td>\n",
       "      <td>1</td>\n",
       "      <td>5.168966</td>\n",
       "      <td>...</td>\n",
       "      <td>-0.012345</td>\n",
       "      <td>sheriff david clarke becomes an internet joke ...</td>\n",
       "      <td>0.002488</td>\n",
       "      <td>0.433611</td>\n",
       "      <td>0.281460</td>\n",
       "      <td>0.001917</td>\n",
       "      <td>0.280524</td>\n",
       "      <td>Neutral</td>\n",
       "      <td>1</td>\n",
       "      <td>0</td>\n",
       "    </tr>\n",
       "    <tr>\n",
       "      <th>3</th>\n",
       "      <td>Trump Is So Obsessed He Even Has Obama’s Name...</td>\n",
       "      <td>On Christmas day, Donald Trump announced that ...</td>\n",
       "      <td>1</td>\n",
       "      <td>on christmas day donald trump announced would ...</td>\n",
       "      <td>trump is so obsessed he even has obama’s name ...</td>\n",
       "      <td>475</td>\n",
       "      <td>15</td>\n",
       "      <td>15</td>\n",
       "      <td>1</td>\n",
       "      <td>5.180180</td>\n",
       "      <td>...</td>\n",
       "      <td>-0.023118</td>\n",
       "      <td>trump is so obsessed he even has obama’s name ...</td>\n",
       "      <td>0.002963</td>\n",
       "      <td>0.788261</td>\n",
       "      <td>0.204377</td>\n",
       "      <td>0.002290</td>\n",
       "      <td>0.002109</td>\n",
       "      <td>Neutral</td>\n",
       "      <td>1</td>\n",
       "      <td>0</td>\n",
       "    </tr>\n",
       "    <tr>\n",
       "      <th>4</th>\n",
       "      <td>Pope Francis Just Called Out Donald Trump Dur...</td>\n",
       "      <td>Pope Francis used his annual Christmas Day mes...</td>\n",
       "      <td>1</td>\n",
       "      <td>pope francis used annual christmas day message...</td>\n",
       "      <td>pope francis just called out donald trump duri...</td>\n",
       "      <td>434</td>\n",
       "      <td>12</td>\n",
       "      <td>19</td>\n",
       "      <td>1</td>\n",
       "      <td>4.554762</td>\n",
       "      <td>...</td>\n",
       "      <td>-0.011722</td>\n",
       "      <td>pope francis just called out donald trump duri...</td>\n",
       "      <td>0.292172</td>\n",
       "      <td>0.327938</td>\n",
       "      <td>0.001138</td>\n",
       "      <td>0.020911</td>\n",
       "      <td>0.357842</td>\n",
       "      <td>Neutral</td>\n",
       "      <td>1</td>\n",
       "      <td>0</td>\n",
       "    </tr>\n",
       "  </tbody>\n",
       "</table>\n",
       "<p>5 rows × 28 columns</p>\n",
       "</div>"
      ],
      "text/plain": [
       "                                               title  \\\n",
       "0   Donald Trump Sends Out Embarrassing New Year’...   \n",
       "1   Drunk Bragging Trump Staffer Started Russian ...   \n",
       "2   Sheriff David Clarke Becomes An Internet Joke...   \n",
       "3   Trump Is So Obsessed He Even Has Obama’s Name...   \n",
       "4   Pope Francis Just Called Out Donald Trump Dur...   \n",
       "\n",
       "                                                text  class  \\\n",
       "0  Donald Trump just couldn t wish all Americans ...      1   \n",
       "1  House Intelligence Committee Chairman Devin Nu...      1   \n",
       "2  On Friday, it was revealed that former Milwauk...      1   \n",
       "3  On Christmas day, Donald Trump announced that ...      1   \n",
       "4  Pope Francis used his annual Christmas Day mes...      1   \n",
       "\n",
       "                              text_without_stopwords  \\\n",
       "0  donald trump wish americans happy new year lea...   \n",
       "1  house intelligence committee chairman devin nu...   \n",
       "2  on friday revealed former milwaukee sheriff da...   \n",
       "3  on christmas day donald trump announced would ...   \n",
       "4  pope francis used annual christmas day message...   \n",
       "\n",
       "                             title_without_stopwords  text_word_count  \\\n",
       "0  donald trump sends out embarrassing new year’s...              516   \n",
       "1  drunk bragging trump staffer started russian c...              309   \n",
       "2  sheriff david clarke becomes an internet joke ...              600   \n",
       "3  trump is so obsessed he even has obama’s name ...              475   \n",
       "4  pope francis just called out donald trump duri...              434   \n",
       "\n",
       "   title_word_count  text_sentence_count  title_sentence_count  \\\n",
       "0                13                   28                     1   \n",
       "1                 9                   11                     1   \n",
       "2                16                   25                     1   \n",
       "3                15                   15                     1   \n",
       "4                12                   19                     1   \n",
       "\n",
       "   text_average_word_length  ...  polarity  \\\n",
       "0                  4.804040  ...  0.082132   \n",
       "1                  5.213115  ... -0.005004   \n",
       "2                  5.168966  ... -0.012345   \n",
       "3                  5.180180  ... -0.023118   \n",
       "4                  4.554762  ... -0.011722   \n",
       "\n",
       "                                     overall_content  Topic 1 Probability  \\\n",
       "0  donald trump sends out embarrassing new year’s...             0.002194   \n",
       "1  drunk bragging trump staffer started russian c...             0.064904   \n",
       "2  sheriff david clarke becomes an internet joke ...             0.002488   \n",
       "3  trump is so obsessed he even has obama’s name ...             0.002963   \n",
       "4  pope francis just called out donald trump duri...             0.292172   \n",
       "\n",
       "   Topic 2 Probability  Topic 3 Probbility  Topic 4 Probability  \\\n",
       "0             0.747636            0.001007             0.157660   \n",
       "1             0.244962            0.557051             0.002320   \n",
       "2             0.433611            0.281460             0.001917   \n",
       "3             0.788261            0.204377             0.002290   \n",
       "4             0.327938            0.001138             0.020911   \n",
       "\n",
       "   Topic 5 Probability  polarity_category  polarity_category_Neutral  \\\n",
       "0             0.091503           Positive                          0   \n",
       "1             0.130763            Neutral                          1   \n",
       "2             0.280524            Neutral                          1   \n",
       "3             0.002109            Neutral                          1   \n",
       "4             0.357842            Neutral                          1   \n",
       "\n",
       "  polarity_category_Positive  \n",
       "0                          1  \n",
       "1                          0  \n",
       "2                          0  \n",
       "3                          0  \n",
       "4                          0  \n",
       "\n",
       "[5 rows x 28 columns]"
      ]
     },
     "execution_count": 2,
     "metadata": {},
     "output_type": "execute_result"
    }
   ],
   "source": [
    "data = pd.read_csv(\"master_dataset/processed_data.csv\")\n",
    "data.head()"
   ]
  },
  {
   "cell_type": "code",
   "execution_count": 3,
   "metadata": {},
   "outputs": [
    {
     "data": {
      "text/plain": [
       "0    12717\n",
       "1    10477\n",
       "Name: class, dtype: int64"
      ]
     },
     "execution_count": 3,
     "metadata": {},
     "output_type": "execute_result"
    }
   ],
   "source": [
    "#first split the dataset into training and test sets\n",
    "x_train, x_test, y_train, y_test = train_test_split(data['overall_content'], data['class'], test_size = 0.2, random_state = 4222)\n",
    "\n",
    "x_train, x_validation, y_train, y_validation = train_test_split(x_train, y_train, test_size = 0.25, random_state = 4222)\n",
    "\n",
    "y_train.value_counts()"
   ]
  },
  {
   "cell_type": "code",
   "execution_count": 4,
   "metadata": {},
   "outputs": [],
   "source": [
    "lst = [len(item.split()) for item in x_train]\n",
    "big_list = [item.split() for item in x_train]\n",
    "unique = list(set([item for sublist in big_list for item in sublist]))"
   ]
  },
  {
   "cell_type": "code",
   "execution_count": 5,
   "metadata": {},
   "outputs": [
    {
     "name": "stdout",
     "output_type": "stream",
     "text": [
      "207463\n",
      "5130\n"
     ]
    }
   ],
   "source": [
    "print(len(unique)) # How many different words are there\n",
    "print(max(lst)) # What the maximum word in an article "
   ]
  },
  {
   "cell_type": "code",
   "execution_count": 6,
   "metadata": {},
   "outputs": [
    {
     "data": {
      "text/plain": [
       "(array([2.1596e+04, 1.4800e+03, 7.0000e+01, 2.4000e+01, 1.2000e+01,\n",
       "        4.0000e+00, 3.0000e+00, 3.0000e+00, 0.0000e+00, 2.0000e+00]),\n",
       " array([2.0000e+00, 5.1480e+02, 1.0276e+03, 1.5404e+03, 2.0532e+03,\n",
       "        2.5660e+03, 3.0788e+03, 3.5916e+03, 4.1044e+03, 4.6172e+03,\n",
       "        5.1300e+03]),\n",
       " <BarContainer object of 10 artists>)"
      ]
     },
     "execution_count": 6,
     "metadata": {},
     "output_type": "execute_result"
    },
    {
     "data": {
      "image/png": "[encoded data removed]",
      "text/plain": [
       "<Figure size 640x480 with 1 Axes>"
      ]
     },
     "metadata": {},
     "output_type": "display_data"
    }
   ],
   "source": [
    "import matplotlib.pyplot as plt\n",
    "plt.hist(lst)"
   ]
  },
  {
   "cell_type": "code",
   "execution_count": 7,
   "metadata": {},
   "outputs": [
    {
     "name": "stdout",
     "output_type": "stream",
     "text": [
      "Number of batches in raw_train_ds: 725\n",
      "Number of batches in raw_val_ds: 242\n",
      "Number of batches in raw_test_ds: 242\n"
     ]
    }
   ],
   "source": [
    "batch_size = 32\n",
    "\n",
    "raw_train_ds = tf.data.Dataset.from_tensor_slices(\n",
    "    (tf.constant(x_train.squeeze().to_list()),\n",
    "     tf.keras.utils.to_categorical(y_train.to_numpy()-1))\n",
    ").batch(batch_size)\n",
    "\n",
    "raw_test_ds = tf.data.Dataset.from_tensor_slices(\n",
    "    (tf.constant(x_test.squeeze().to_list()),\n",
    "     tf.keras.utils.to_categorical(y_test.to_numpy()-1))\n",
    ").batch(batch_size)\n",
    "\n",
    "raw_val_ds = tf.data.Dataset.from_tensor_slices(\n",
    "    (tf.constant(x_validation.squeeze().to_list()),\n",
    "     tf.keras.utils.to_categorical(y_validation.to_numpy()-1))\n",
    ").batch(batch_size)\n",
    "\n",
    "print(f\"Number of batches in raw_train_ds: {raw_train_ds.cardinality()}\")\n",
    "print(f\"Number of batches in raw_val_ds: {raw_val_ds.cardinality()}\")\n",
    "print(f\"Number of batches in raw_test_ds: {raw_test_ds.cardinality()}\")"
   ]
  },
  {
   "cell_type": "code",
   "execution_count": 8,
   "metadata": {},
   "outputs": [],
   "source": [
    "# Model constants.\n",
    "max_features = 40000\n",
    "embedding_dim = 100\n",
    "sequence_length = 1000\n",
    "maxlen = [500, 1000]\n",
    "dense_units = [64, 128]\n",
    "lstm_units = [64, 128]\n",
    "\n",
    "vectorize_layer = TextVectorization(\n",
    "    standardize='lower_and_strip_punctuation',\n",
    "    max_tokens=max_features,\n",
    "    output_mode=\"int\",\n",
    "    output_sequence_length=sequence_length,\n",
    ")\n",
    "\n",
    "# Let's make a text-only dataset (no labels):\n",
    "text_ds = raw_train_ds.map(lambda x, _ : x)\n",
    "# Let's call `adapt`:\n",
    "vectorize_layer.adapt(text_ds)"
   ]
  },
  {
   "cell_type": "code",
   "execution_count": 9,
   "metadata": {},
   "outputs": [
    {
     "name": "stdout",
     "output_type": "stream",
     "text": [
      "[(500, 64, 64), (500, 64, 128), (500, 128, 64), (500, 128, 128), (1000, 64, 64), (1000, 64, 128), (1000, 128, 64), (1000, 128, 128)]\n"
     ]
    }
   ],
   "source": [
    "candidate_params = list(itertools.product(maxlen, dense_units, lstm_units))\n",
    "print(candidate_params)"
   ]
  },
  {
   "cell_type": "code",
   "execution_count": 10,
   "metadata": {},
   "outputs": [],
   "source": [
    "def tokenized_sets(maxlen):\n",
    "    results = []\n",
    "    tokenizer = Tokenizer(num_words=max_features)\n",
    "    tokenizer.fit_on_texts(x_train.squeeze())\n",
    "\n",
    "    tokenized_train = tokenizer.texts_to_sequences(x_train.squeeze())\n",
    "    x_train_tokenized = pad_sequences(tokenized_train , maxlen=maxlen)\n",
    "    results.append(x_train_tokenized)\n",
    "\n",
    "    tokenized_val = tokenizer.texts_to_sequences(x_validation)\n",
    "    x_validation_tokenized = pad_sequences(tokenized_val , maxlen=maxlen)\n",
    "    results.append(x_validation_tokenized)\n",
    "\n",
    "    tokenized_test = tokenizer.texts_to_sequences(x_test)\n",
    "    x_test_tokenized = pad_sequences(tokenized_test , maxlen=maxlen)\n",
    "    results.append(x_test_tokenized)\n",
    "\n",
    "    return results"
   ]
  },
  {
   "cell_type": "code",
   "execution_count": 11,
   "metadata": {},
   "outputs": [],
   "source": [
    "def vectorize_text(text, label):\n",
    "    text = tf.expand_dims(text, -1)\n",
    "    return vectorize_layer(text), label\n",
    "\n",
    "# Vectorize the data.\n",
    "train_ds = raw_train_ds.map(vectorize_text)\n",
    "val_ds = raw_val_ds.map(vectorize_text)\n",
    "test_ds = raw_test_ds.map(vectorize_text)\n",
    "\n",
    "# Do async prefetching / buffering of the data for best performance on GPU.\n",
    "train_ds = train_ds.cache().prefetch(buffer_size=10)\n",
    "val_ds = val_ds.cache().prefetch(buffer_size=10)\n",
    "test_ds = test_ds.cache().prefetch(buffer_size=10)"
   ]
  },
  {
   "cell_type": "code",
   "execution_count": 12,
   "metadata": {},
   "outputs": [],
   "source": [
    "def cnn_model(cnn_units, dense_units):\n",
    "\n",
    "    model = keras.models.Sequential()\n",
    "\n",
    "    # Next, we add a layer to map those vocab indices into a space of dimensionality 'embedding_dim'.\n",
    "    model.add(Embedding(max_features, embedding_dim))\n",
    "    model.add(Dropout(0.5))\n",
    "\n",
    "    # Conv1D + global max pooling\n",
    "    model.add(Conv1D(cnn_units, 7, padding=\"valid\", activation=\"relu\", strides=3))\n",
    "    model.add(Conv1D(cnn_units, 7, padding=\"valid\", activation=\"relu\", strides=3))\n",
    "    model.add(GlobalMaxPooling1D())\n",
    "\n",
    "    # We add a vanilla hidden layer:\n",
    "    model.add(Dense(dense_units, activation='relu'))\n",
    "    model.add(Dropout(0.5))\n",
    "\n",
    "    # We project onto a single unit output layer, and squash it with a sigmoid:\n",
    "    model.add(Dense(1, activation=\"sigmoid\", name=\"predictions\"))\n",
    "\n",
    "    # Compile the model with binary crossentropy loss and an adam optimizer.\n",
    "    model.compile(loss=\"binary_crossentropy\", optimizer=\"adam\", metrics=['accuracy'])\n",
    "\n",
    "    return model"
   ]
  },
  {
   "cell_type": "code",
   "execution_count": 13,
   "metadata": {},
   "outputs": [],
   "source": [
    "epochs = 3\n",
    "\n",
    "early_stopping = EarlyStopping()\n",
    "\n",
    "def make_predictions(tokenized_text, model):\n",
    "    model.fit(tokenized_text[0], y_train,\n",
    "                  validation_data = (tokenized_text[1], y_validation),\n",
    "                  epochs = epochs,\n",
    "                  callbacks = [early_stopping])\n",
    "    y_pred = (model.predict(tokenized_text[2]) >= 0.5).astype(\"int\")\n",
    "    return y_pred"
   ]
  },
  {
   "cell_type": "code",
   "execution_count": 14,
   "metadata": {},
   "outputs": [
    {
     "name": "stdout",
     "output_type": "stream",
     "text": [
      "Epoch 1/3\n",
      "725/725 [==============================] - 30s 40ms/step - loss: 0.1617 - accuracy: 0.9130 - val_loss: 0.0278 - val_accuracy: 0.9911\n",
      "Epoch 2/3\n",
      "725/725 [==============================] - 29s 40ms/step - loss: 0.0120 - accuracy: 0.9968 - val_loss: 0.0314 - val_accuracy: 0.9909\n",
      "242/242 [==============================] - 1s 2ms/step\n",
      "Epoch 1/3\n",
      "725/725 [==============================] - 29s 40ms/step - loss: 0.1511 - accuracy: 0.9173 - val_loss: 0.0384 - val_accuracy: 0.9869\n",
      "Epoch 2/3\n",
      "725/725 [==============================] - 29s 40ms/step - loss: 0.0130 - accuracy: 0.9967 - val_loss: 0.0362 - val_accuracy: 0.9893\n",
      "Epoch 3/3\n",
      "725/725 [==============================] - 29s 40ms/step - loss: 0.0020 - accuracy: 0.9996 - val_loss: 0.0442 - val_accuracy: 0.9909\n",
      "242/242 [==============================] - 1s 2ms/step\n",
      "Epoch 1/3\n",
      "725/725 [==============================] - 31s 42ms/step - loss: 0.1398 - accuracy: 0.9291 - val_loss: 0.0256 - val_accuracy: 0.9924\n",
      "Epoch 2/3\n",
      "725/725 [==============================] - 30s 42ms/step - loss: 0.0104 - accuracy: 0.9968 - val_loss: 0.0265 - val_accuracy: 0.9928\n",
      "242/242 [==============================] - 1s 3ms/step\n",
      "Epoch 1/3\n",
      "725/725 [==============================] - 31s 42ms/step - loss: 0.1231 - accuracy: 0.9384 - val_loss: 0.0348 - val_accuracy: 0.9881\n",
      "Epoch 2/3\n",
      "725/725 [==============================] - 30s 42ms/step - loss: 0.0093 - accuracy: 0.9974 - val_loss: 0.0318 - val_accuracy: 0.9921\n",
      "Epoch 3/3\n",
      "725/725 [==============================] - 30s 42ms/step - loss: 0.0021 - accuracy: 0.9993 - val_loss: 0.0551 - val_accuracy: 0.9885\n",
      "242/242 [==============================] - 1s 3ms/step\n",
      "Epoch 1/3\n",
      "725/725 [==============================] - 40s 55ms/step - loss: 0.1564 - accuracy: 0.9140 - val_loss: 0.0195 - val_accuracy: 0.9933\n",
      "Epoch 2/3\n",
      "725/725 [==============================] - 40s 55ms/step - loss: 0.0093 - accuracy: 0.9972 - val_loss: 0.0201 - val_accuracy: 0.9933\n",
      "242/242 [==============================] - 1s 5ms/step\n",
      "Epoch 1/3\n",
      "725/725 [==============================] - 40s 54ms/step - loss: 0.1393 - accuracy: 0.9204 - val_loss: 0.0355 - val_accuracy: 0.9899\n",
      "Epoch 2/3\n",
      "725/725 [==============================] - 39s 54ms/step - loss: 0.0080 - accuracy: 0.9975 - val_loss: 0.0382 - val_accuracy: 0.9899\n",
      "242/242 [==============================] - 1s 5ms/step\n",
      "Epoch 1/3\n",
      "725/725 [==============================] - 45s 61ms/step - loss: 0.1433 - accuracy: 0.9220 - val_loss: 0.0187 - val_accuracy: 0.9934\n",
      "Epoch 2/3\n",
      "725/725 [==============================] - 45s 62ms/step - loss: 0.0077 - accuracy: 0.9981 - val_loss: 0.0346 - val_accuracy: 0.9925\n",
      "242/242 [==============================] - 2s 8ms/step\n",
      "Epoch 1/3\n",
      "725/725 [==============================] - 57s 78ms/step - loss: 0.1365 - accuracy: 0.9252 - val_loss: 0.0214 - val_accuracy: 0.9930\n",
      "Epoch 2/3\n",
      "725/725 [==============================] - 44s 61ms/step - loss: 0.0100 - accuracy: 0.9972 - val_loss: 0.0205 - val_accuracy: 0.9938\n",
      "Epoch 3/3\n",
      "725/725 [==============================] - 44s 61ms/step - loss: 0.0019 - accuracy: 0.9995 - val_loss: 0.0236 - val_accuracy: 0.9937\n",
      "242/242 [==============================] - 2s 9ms/step\n",
      "(1000, 128, 128)\n"
     ]
    }
   ],
   "source": [
    "for parameters in candidate_params:\n",
    "    count = 1\n",
    "    accuracy = 0\n",
    "    best_params = []\n",
    "    data = tokenized_sets(parameters[0])\n",
    "    cnn = cnn_model(parameters[1], parameters[2])\n",
    "    predictions = make_predictions(data, cnn)\n",
    "    accuracy_current = accuracy_score(y_test, predictions)\n",
    "    if accuracy_current > accuracy:\n",
    "        accuracy = accuracy_current\n",
    "        best_params = parameters \n",
    "print(best_params)"
   ]
  },
  {
   "cell_type": "code",
   "execution_count": 15,
   "metadata": {},
   "outputs": [
    {
     "name": "stdout",
     "output_type": "stream",
     "text": [
      "Epoch 1/3\n",
      "725/725 [==============================] - 64s 87ms/step - loss: 0.1396 - accuracy: 0.9249 - val_loss: 0.0201 - val_accuracy: 0.9934\n",
      "Epoch 2/3\n",
      "725/725 [==============================] - 54s 75ms/step - loss: 0.0076 - accuracy: 0.9979 - val_loss: 0.0324 - val_accuracy: 0.9922\n",
      "242/242 [==============================] - 4s 15ms/step\n"
     ]
    }
   ],
   "source": [
    "final_sets = tokenized_sets(best_params[0])\n",
    "final_cnn_model = cnn_model(best_params[1], best_params[2])\n",
    "\n",
    "history = final_cnn_model.fit(final_sets[0], y_train,\n",
    "                              validation_data = (final_sets[1], y_validation),\n",
    "                              epochs = epochs, \n",
    "                              callbacks = [early_stopping])\n",
    "\n",
    "y_pred = (final_cnn_model.predict(final_sets[2]) >= 0.5).astype(\"int\")"
   ]
  },
  {
   "cell_type": "code",
   "execution_count": 16,
   "metadata": {},
   "outputs": [
    {
     "name": "stdout",
     "output_type": "stream",
     "text": [
      "Performance on Test set:\n",
      "Accuracy: 0.9918520434557683\n",
      "Precision: 0.9985481997677119\n",
      "Recall: 0.983414355161567\n",
      "F1_score: 0.9909234980550352\n"
     ]
    }
   ],
   "source": [
    "print(\"Performance on Test set:\")\n",
    "print(\"Accuracy:\", accuracy_score(y_test, y_pred))\n",
    "print(\"Precision:\", precision_score(y_test, y_pred))\n",
    "print(\"Recall:\", recall_score(y_test, y_pred))\n",
    "print(\"F1_score:\", f1_score(y_test, y_pred))"
   ]
  }
 ],
 "metadata": {
  "kernelspec": {
   "display_name": "Python 3",
   "language": "python",
   "name": "python3"
  },
  "language_info": {
   "codemirror_mode": {
    "name": "ipython",
    "version": 3
   },
   "file_extension": ".py",
   "mimetype": "text/x-python",
   "name": "python",
   "nbconvert_exporter": "python",
   "pygments_lexer": "ipython3",
   "version": "3.10.10"
  },
  "orig_nbformat": 4,
  "vscode": {
   "interpreter": {
    "hash": "ce9f17b5bd105c5507d96ff01fabfb6af60c48b139833c32487c7fda2c0d6fef"
   }
  }
 },
 "nbformat": 4,
 "nbformat_minor": 2
}
