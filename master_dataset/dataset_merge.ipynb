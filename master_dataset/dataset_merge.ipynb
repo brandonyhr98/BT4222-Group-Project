{
 "cells": [
  {
   "cell_type": "code",
   "execution_count": 1,
   "metadata": {},
   "outputs": [],
   "source": [
    "import pandas as pd\n",
    "\n",
    "# Read the Fake CSV file\n",
    "fake_df = pd.read_csv(\"Fake.csv\")\n",
    "\n",
    "# Read the True CSV file\n",
    "real_df = pd.read_csv(\"True.csv\")\n",
    "\n",
    "# Add a new column called \"Fake\" with a value of 1 for all rows [Fake = 1 , True = 0]\n",
    "fake_df['fake'] = 1\n",
    "real_df['fake'] = 0\n",
    "\n",
    "# Merge the two dataframes\n",
    "merged_df = pd.concat([fake_df, real_df], ignore_index=True)\n",
    "\n",
    "# Save the merged dataframe to a new CSV file\n",
    "merged_df.to_csv(\"merged_news.csv\", index=False)\n"
   ]
  }
 ],
 "metadata": {
  "kernelspec": {
   "display_name": "base",
   "language": "python",
   "name": "python3"
  },
  "language_info": {
   "codemirror_mode": {
    "name": "ipython",
    "version": 3
   },
   "file_extension": ".py",
   "mimetype": "text/x-python",
   "name": "python",
   "nbconvert_exporter": "python",
   "pygments_lexer": "ipython3",
   "version": "3.9.7"
  },
  "orig_nbformat": 4
 },
 "nbformat": 4,
 "nbformat_minor": 2
}
