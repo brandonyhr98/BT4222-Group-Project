{
 "cells": [
  {
   "cell_type": "code",
   "execution_count": 1,
   "metadata": {},
   "outputs": [],
   "source": [
    "import pandas as pd\n",
    "from sklearn.model_selection import train_test_split , GridSearchCV\n",
    "from sklearn import metrics\n",
    "from sklearn.metrics import classification_report, accuracy_score\n",
    "\n",
    "import numpy as np\n",
    "import itertools\n",
    "import keras\n",
    "import keras.layers as layers\n",
    "import tensorflow as tf\n",
    "import os\n",
    "from nltk.tokenize import word_tokenize\n",
    "from tensorflow.keras.layers import TextVectorization\n",
    "\n",
    "from keras.preprocessing.text import Tokenizer\n",
    "from keras.utils import pad_sequences\n"
   ]
  },
  {
   "cell_type": "code",
   "execution_count": 2,
   "metadata": {},
   "outputs": [
    {
     "name": "stdout",
     "output_type": "stream",
     "text": [
      "0        donald trump sends out embarrassing new year’s...\n",
      "1        drunk bragging trump staffer started russian c...\n",
      "2        sheriff david clarke becomes an internet joke ...\n",
      "3        trump is so obsessed he even has obama’s name ...\n",
      "4        pope francis just called out donald trump duri...\n",
      "                               ...                        \n",
      "38653    'fully committed' nato backs new us approach a...\n",
      "38654    lexisnexis withdrew two products chinese marke...\n",
      "38655    minsk cultural hub becomes authorities in shad...\n",
      "38656    vatican upbeat possibility pope francis visiti...\n",
      "38657    indonesia buy $114 billion worth russian jets ...\n",
      "Name: overall_content, Length: 38658, dtype: object 0        1\n",
      "1        1\n",
      "2        1\n",
      "3        1\n",
      "4        1\n",
      "        ..\n",
      "38653    0\n",
      "38654    0\n",
      "38655    0\n",
      "38656    0\n",
      "38657    0\n",
      "Name: class, Length: 38658, dtype: int64\n"
     ]
    }
   ],
   "source": [
    "data = pd.read_csv(\"master_dataset/processed_data.csv\")\n",
    "# drop unwanted features\n",
    "\n",
    "\n",
    "# Drop all the column , keep only class , overall_context\n",
    "\n",
    "x = data['overall_content']\n",
    "y = data['class'] \n",
    "    \n",
    "# As we will be vectorizing the content and doing LSTM on it\n",
    "\n",
    "print(x,y)"
   ]
  },
  {
   "cell_type": "code",
   "execution_count": 3,
   "metadata": {},
   "outputs": [
    {
     "data": {
      "text/plain": [
       "0    21196\n",
       "1    17462\n",
       "Name: class, dtype: int64"
      ]
     },
     "execution_count": 3,
     "metadata": {},
     "output_type": "execute_result"
    }
   ],
   "source": [
    "y.value_counts()"
   ]
  },
  {
   "cell_type": "markdown",
   "metadata": {},
   "source": [
    "### Prepare the data"
   ]
  },
  {
   "cell_type": "code",
   "execution_count": 4,
   "metadata": {},
   "outputs": [
    {
     "data": {
      "text/plain": [
       "0    12717\n",
       "1    10477\n",
       "Name: class, dtype: int64"
      ]
     },
     "execution_count": 4,
     "metadata": {},
     "output_type": "execute_result"
    }
   ],
   "source": [
    "#first split the dataset into training and test sets\n",
    "\n",
    "\n",
    "x_train, x_test, y_train, y_test = train_test_split(x,y,test_size=0.2,random_state = 4222)\n",
    "\n",
    "x_train, x_validation, y_train, y_validation = train_test_split(x_train, y_train, test_size = 0.25, random_state = 4222)\n",
    "\n",
    "#check that train set is balance\n",
    "y_train.value_counts()\n",
    "\n",
    "# Since the dataset is pretty balanced, Real - 55% and Fake - 45% of the data,\n",
    "# By oversampling, we will have duplicates in the model which will overtrain out model.\n",
    "# By undersampling, we might lose out on critical information."
   ]
  },
  {
   "cell_type": "code",
   "execution_count": 5,
   "metadata": {},
   "outputs": [],
   "source": [
    "# Find the number of maximum text \n",
    "lst = []\n",
    "words = []\n",
    "for item in x_train:\n",
    "    lst.append(len(item.split()))\n",
    "\n",
    "big_list = [item.split() for item in x_train]\n",
    "flat_list = [item for sublist in big_list for item in sublist]\n",
    "unique = list(set(flat_list))\n"
   ]
  },
  {
   "cell_type": "code",
   "execution_count": 6,
   "metadata": {},
   "outputs": [
    {
     "name": "stdout",
     "output_type": "stream",
     "text": [
      "207463\n",
      "5130\n"
     ]
    }
   ],
   "source": [
    "print(len(unique)) # How many different words are there\n",
    "print(max(lst)) # What the maximum word in an article "
   ]
  },
  {
   "cell_type": "code",
   "execution_count": 7,
   "metadata": {},
   "outputs": [
    {
     "data": {
      "text/plain": [
       "(array([2.1596e+04, 1.4800e+03, 7.0000e+01, 2.4000e+01, 1.2000e+01,\n",
       "        4.0000e+00, 3.0000e+00, 3.0000e+00, 0.0000e+00, 2.0000e+00]),\n",
       " array([2.0000e+00, 5.1480e+02, 1.0276e+03, 1.5404e+03, 2.0532e+03,\n",
       "        2.5660e+03, 3.0788e+03, 3.5916e+03, 4.1044e+03, 4.6172e+03,\n",
       "        5.1300e+03]),\n",
       " <BarContainer object of 10 artists>)"
      ]
     },
     "execution_count": 7,
     "metadata": {},
     "output_type": "execute_result"
    },
    {
     "data": {
      "image/png": "[encoded data removed]",
      "text/plain": [
       "<Figure size 432x288 with 1 Axes>"
      ]
     },
     "metadata": {
      "needs_background": "light"
     },
     "output_type": "display_data"
    }
   ],
   "source": [
    "import matplotlib.pyplot as plt\n",
    "plt.hist(lst)"
   ]
  },
  {
   "cell_type": "code",
   "execution_count": 8,
   "metadata": {},
   "outputs": [],
   "source": [
    "# # Model constants / Parameters\n",
    "max_features = 40000\n",
    "embed_size = 100\n",
    "maxlen = [250,500,1000]\n",
    "dense_units = [64,128]\n",
    "lstm_units = [64,128]"
   ]
  },
  {
   "cell_type": "code",
   "execution_count": 9,
   "metadata": {},
   "outputs": [],
   "source": [
    "candidate_params = list(itertools.product(maxlen,dense_units,lstm_units))"
   ]
  },
  {
   "cell_type": "code",
   "execution_count": 10,
   "metadata": {},
   "outputs": [
    {
     "data": {
      "text/plain": [
       "[(250, 64, 64),\n",
       " (250, 64, 128),\n",
       " (250, 128, 64),\n",
       " (250, 128, 128),\n",
       " (500, 64, 64),\n",
       " (500, 64, 128),\n",
       " (500, 128, 64),\n",
       " (500, 128, 128),\n",
       " (1000, 64, 64),\n",
       " (1000, 64, 128),\n",
       " (1000, 128, 64),\n",
       " (1000, 128, 128)]"
      ]
     },
     "execution_count": 10,
     "metadata": {},
     "output_type": "execute_result"
    }
   ],
   "source": [
    "candidate_params"
   ]
  },
  {
   "cell_type": "code",
   "execution_count": 11,
   "metadata": {},
   "outputs": [],
   "source": [
    "def tokenized_sets(maxlen):\n",
    "    #result = []\n",
    "    tokenizer = Tokenizer(num_words=max_features)\n",
    "    tokenizer.fit_on_texts(x_train.squeeze())\n",
    "\n",
    "    tokenized_train = tokenizer.texts_to_sequences(x_train.squeeze())\n",
    "    x_train_tokenized = pad_sequences(tokenized_train , maxlen=maxlen)\n",
    "    \n",
    "    tokenized_val = tokenizer.texts_to_sequences(x_validation)\n",
    "    x_validation_tokenized = pad_sequences(tokenized_val , maxlen=maxlen)\n",
    "    \n",
    "    tokenized_test = tokenizer.texts_to_sequences(x_test)\n",
    "    x_test_tokenized = pad_sequences(tokenized_test , maxlen=maxlen)\n",
    "\n",
    "    return(x_train_tokenized,x_validation_tokenized,x_test_tokenized)"
   ]
  },
  {
   "attachments": {},
   "cell_type": "markdown",
   "metadata": {},
   "source": [
    "## Build A model"
   ]
  },
  {
   "cell_type": "code",
   "execution_count": 13,
   "metadata": {},
   "outputs": [
    {
     "name": "stdout",
     "output_type": "stream",
     "text": [
      "Max Length: 250 , Dense Unit 64 , LSTM Unit 64   \n",
      "725/725 [==============================] - 117s 158ms/step - loss: 0.1336 - accuracy: 0.9431 - val_loss: 0.0339 - val_accuracy: 0.9893\n",
      "Max Length: 250 , Dense Unit 64 , LSTM Unit 128   \n",
      "725/725 [==============================] - 188s 256ms/step - loss: 0.1632 - accuracy: 0.9331 - val_loss: 0.0395 - val_accuracy: 0.9865\n",
      "Max Length: 250 , Dense Unit 128 , LSTM Unit 64   \n",
      "725/725 [==============================] - 121s 164ms/step - loss: 0.1634 - accuracy: 0.9267 - val_loss: 0.0380 - val_accuracy: 0.9878\n",
      "Max Length: 250 , Dense Unit 128 , LSTM Unit 128   \n",
      "725/725 [==============================] - 179s 245ms/step - loss: 0.1613 - accuracy: 0.9344 - val_loss: 0.0416 - val_accuracy: 0.9869\n",
      "Max Length: 500 , Dense Unit 64 , LSTM Unit 64   \n",
      "725/725 [==============================] - 198s 271ms/step - loss: 0.1379 - accuracy: 0.9409 - val_loss: 0.0232 - val_accuracy: 0.9924\n",
      "Max Length: 500 , Dense Unit 64 , LSTM Unit 128   \n",
      "725/725 [==============================] - 347s 477ms/step - loss: 0.1104 - accuracy: 0.9527 - val_loss: 0.0160 - val_accuracy: 0.9950\n",
      "Max Length: 500 , Dense Unit 128 , LSTM Unit 64   \n",
      "725/725 [==============================] - 204s 279ms/step - loss: 0.1248 - accuracy: 0.9466 - val_loss: 0.0176 - val_accuracy: 0.9951\n",
      "Max Length: 500 , Dense Unit 128 , LSTM Unit 128   \n",
      "725/725 [==============================] - 348s 477ms/step - loss: 0.1395 - accuracy: 0.9418 - val_loss: 0.0398 - val_accuracy: 0.9841\n",
      "Max Length: 1000 , Dense Unit 64 , LSTM Unit 64   \n",
      "725/725 [==============================] - 376s 516ms/step - loss: 0.1599 - accuracy: 0.9370 - val_loss: 0.0185 - val_accuracy: 0.9944\n",
      "Max Length: 1000 , Dense Unit 64 , LSTM Unit 128   \n",
      "725/725 [==============================] - 803s 1s/step - loss: 0.1634 - accuracy: 0.9233 - val_loss: 0.0250 - val_accuracy: 0.9922\n",
      "Max Length: 1000 , Dense Unit 128 , LSTM Unit 64   \n",
      "725/725 [==============================] - 379s 520ms/step - loss: 0.1128 - accuracy: 0.9495 - val_loss: 0.0270 - val_accuracy: 0.9924\n",
      "Max Length: 1000 , Dense Unit 128 , LSTM Unit 128   \n",
      "725/725 [==============================] - 731s 1s/step - loss: 0.1138 - accuracy: 0.9516 - val_loss: 0.0133 - val_accuracy: 0.9959\n"
     ]
    }
   ],
   "source": [
    "for i in range(len(candidate_params)):\n",
    "    maxlen = candidate_params[i][0]\n",
    "    dense_units = candidate_params[i][1]\n",
    "    lstm_units = candidate_params[i][2]\n",
    "\n",
    "\n",
    "    result = tokenized_sets(maxlen)\n",
    "\n",
    "    x_train_tokenized = result[0]\n",
    "    x_validation_tokenized = result[1]\n",
    "    x_test_tokenized = result[2]\n",
    "\n",
    "    model = keras.models.Sequential()\n",
    "    model.add(layers.Embedding(max_features,embed_size))\n",
    "    model.add(layers.Dropout(0.5))\n",
    "\n",
    "    model.add(layers.LSTM(lstm_units, return_sequences=True))\n",
    "    model.add(layers.GlobalMaxPooling1D())\n",
    "\n",
    "    model.add(layers.Dense(dense_units, activation='relu'))\n",
    "    model.add(layers.Dropout(0.5))\n",
    "    model.add(layers.Dense(1,activation=\"sigmoid\",name=\"predictions\"))\n",
    "\n",
    "    model.compile(loss=\"binary_crossentropy\", optimizer=\"adam\", metrics=['accuracy'])\n",
    "\n",
    "    print(\"Max Length: {} , Dense Unit {} , LSTM Unit {}   \".format( candidate_params[i][0], candidate_params[i][1] , candidate_params[i][2]))\n",
    "\n",
    "    model.fit(x_train_tokenized, y_train,validation_data=(x_validation_tokenized,y_validation))\n",
    "    "
   ]
  },
  {
   "attachments": {},
   "cell_type": "markdown",
   "metadata": {},
   "source": [
    "## Train and evalute the model"
   ]
  },
  {
   "cell_type": "code",
   "execution_count": 14,
   "metadata": {},
   "outputs": [
    {
     "name": "stdout",
     "output_type": "stream",
     "text": [
      "Epoch 1/2\n",
      "725/725 [==============================] - 280s 383ms/step - loss: 0.1301 - accuracy: 0.9454 - val_loss: 0.0246 - val_accuracy: 0.9916\n",
      "Epoch 2/2\n",
      "725/725 [==============================] - 345s 475ms/step - loss: 0.0116 - accuracy: 0.9967 - val_loss: 0.0196 - val_accuracy: 0.9942\n"
     ]
    },
    {
     "data": {
      "text/plain": [
       "<keras.callbacks.History at 0x2402c6b0a60>"
      ]
     },
     "execution_count": 14,
     "metadata": {},
     "output_type": "execute_result"
    }
   ],
   "source": [
    "result = tokenized_sets(500)\n",
    "\n",
    "x_train_tokenized = result[0]\n",
    "x_validation_tokenized = result[1]\n",
    "x_test_tokenized = result[2]\n",
    "\n",
    "model = keras.models.Sequential()\n",
    "model.add(layers.Embedding(max_features,embed_size))\n",
    "model.add(layers.Dropout(0.5))\n",
    "\n",
    "model.add(layers.LSTM(128, return_sequences=True))\n",
    "model.add(layers.GlobalMaxPooling1D())\n",
    "\n",
    "model.add(layers.Dense(64, activation='relu'))\n",
    "model.add(layers.Dropout(0.5))\n",
    "model.add(layers.Dense(1,activation=\"sigmoid\",name=\"predictions\"))\n",
    "\n",
    "model.compile(loss=\"binary_crossentropy\", optimizer=\"adam\", metrics=['accuracy'])\n",
    "\n",
    "model.fit(x_train_tokenized, y_train,validation_data=(x_validation_tokenized,y_validation), epochs=2)"
   ]
  },
  {
   "cell_type": "code",
   "execution_count": 15,
   "metadata": {},
   "outputs": [
    {
     "name": "stdout",
     "output_type": "stream",
     "text": [
      "242/242 [==============================] - 31s 127ms/step\n"
     ]
    }
   ],
   "source": [
    "# Prediction if the news is fake \n",
    "# Class 1 (Fake) if predicted prob >= 0.5, else class 0 (Real)\n",
    "\n",
    "y_pred = (model.predict(x_test_tokenized) >= 0.5).astype(\"int\")\n"
   ]
  },
  {
   "cell_type": "code",
   "execution_count": 16,
   "metadata": {},
   "outputs": [
    {
     "name": "stdout",
     "output_type": "stream",
     "text": [
      "              precision    recall  f1-score   support\n",
      "\n",
      "           0       0.99      1.00      1.00      4235\n",
      "           1       1.00      0.99      0.99      3497\n",
      "\n",
      "    accuracy                           0.99      7732\n",
      "   macro avg       1.00      0.99      0.99      7732\n",
      "weighted avg       0.99      0.99      0.99      7732\n",
      "\n"
     ]
    }
   ],
   "source": [
    "print(classification_report(y_test, y_pred))\n"
   ]
  },
  {
   "attachments": {},
   "cell_type": "markdown",
   "metadata": {},
   "source": [
    "### Analysis after Training Model"
   ]
  },
  {
   "cell_type": "code",
   "execution_count": 17,
   "metadata": {},
   "outputs": [
    {
     "name": "stdout",
     "output_type": "stream",
     "text": [
      "725/725 [==============================] - 93s 129ms/step - loss: 0.0013 - accuracy: 0.9997\n",
      "Accuracy of the model on Training Data is -  99.97413158416748 %\n",
      "242/242 [==============================] - 31s 127ms/step - loss: 0.0196 - accuracy: 0.9942\n",
      "Accuracy of the model on Validation Data is -  99.41800236701965 %\n",
      "242/242 [==============================] - 31s 128ms/step - loss: 0.0173 - accuracy: 0.9950\n",
      "Accuracy of the model on Testing Data is -  99.49560165405273 %\n"
     ]
    }
   ],
   "source": [
    "print(\"Accuracy of the model on Training Data is - \" , model.evaluate(x_train_tokenized,y_train)[1]*100 ,  \"%\")\n",
    "print(\"Accuracy of the model on Validation Data is - \" , model.evaluate(x_validation_tokenized,y_validation)[1]*100 , \"%\")\n",
    "print(\"Accuracy of the model on Testing Data is - \" , model.evaluate(x_test_tokenized,y_test)[1]*100 , \"%\")\n"
   ]
  }
 ],
 "metadata": {
  "kernelspec": {
   "display_name": "Python 3",
   "language": "python",
   "name": "python3"
  },
  "language_info": {
   "codemirror_mode": {
    "name": "ipython",
    "version": 3
   },
   "file_extension": ".py",
   "mimetype": "text/x-python",
   "name": "python",
   "nbconvert_exporter": "python",
   "pygments_lexer": "ipython3",
   "version": "3.9.7"
  },
  "orig_nbformat": 4
 },
 "nbformat": 4,
 "nbformat_minor": 2
}
