{
 "cells": [
  {
   "cell_type": "code",
   "execution_count": 1,
   "id": "54f4fb53",
   "metadata": {},
   "outputs": [],
   "source": [
    "# pip install imblearn\n",
    "\n",
    "import pandas as pd\n",
    "import numpy as np\n",
    "import matplotlib.pyplot as plt\n",
    "from sklearn import metrics \n",
    "from sklearn.model_selection import GridSearchCV, cross_val_score, train_test_split, RandomizedSearchCV\n",
    "from sklearn.ensemble import GradientBoostingClassifier, RandomForestClassifier\n",
    "from sklearn.metrics import mean_squared_error as MSE \n",
    "import imblearn\n",
    "from imblearn.under_sampling import RandomUnderSampler"
   ]
  },
  {
   "cell_type": "code",
   "execution_count": 2,
   "id": "7ab42bc2",
   "metadata": {},
   "outputs": [],
   "source": [
    "data = pd.read_csv(\"processed_data.csv\")\n",
    "\n",
    "# seed for random state\n",
    "seed = 49"
   ]
  },
  {
   "cell_type": "code",
   "execution_count": 3,
   "id": "fdd11791",
   "metadata": {},
   "outputs": [],
   "source": [
    "#drop unwanted features\n",
    "data = data.drop(['text','title','text_without_stopwords', 'title_without_stopwords','syllables', 'polarity_category', 'overall_content', 'polarity'], axis=1)\n",
    "x = data.iloc[:,1:]\n",
    "y = data['class']\n",
    "x_train, x_test, y_train, y_test = train_test_split(x, y, test_size=0.3, random_state = seed)\n",
    "\n",
    "# undersampling to make up for slightly imbalanced data\n",
    "sample = RandomUnderSampler(sampling_strategy='majority')\n",
    "x_train,y_train = sample.fit_resample(x_train, y_train)"
   ]
  },
  {
   "cell_type": "code",
   "execution_count": 4,
   "id": "e3315e10",
   "metadata": {},
   "outputs": [
    {
     "name": "stdout",
     "output_type": "stream",
     "text": [
      "Gradient Boosting Accuracy: 0.9769787894464563\n",
      "Gradient Boosting Precision: 0.9809847878302642\n",
      "Gradient Boosting Recall: 0.9660950128129312\n",
      "Gradient Boosting F1_score: 0.9734829675240839\n"
     ]
    }
   ],
   "source": [
    "# Gradient Boosting\n",
    "gb = GradientBoostingClassifier(random_state = seed)\n",
    "gb.fit(x_train, y_train)\n",
    "ypred_gb = gb.predict(x_test)\n",
    "\n",
    "accuracy_gb = metrics.accuracy_score(y_test, ypred_gb) \n",
    "precision_gb = metrics.precision_score(y_test, ypred_gb)\n",
    "recall_gb = metrics.recall_score(y_test, ypred_gb)\n",
    "f1_score_gb = metrics.f1_score(y_test, ypred_gb) \n",
    "\n",
    "print(\"Gradient Boosting Accuracy:\", accuracy_gb)\n",
    "print(\"Gradient Boosting Precision:\", precision_gb)\n",
    "print(\"Gradient Boosting Recall:\", recall_gb)\n",
    "print(\"Gradient Boosting F1_score:\", f1_score_gb)"
   ]
  },
  {
   "cell_type": "code",
   "execution_count": 10,
   "id": "a6cb33bf",
   "metadata": {},
   "outputs": [
    {
     "data": {
      "text/plain": [
       "{'learning_rate': 0.2, 'max_depth': 4, 'n_estimators': 350}"
      ]
     },
     "execution_count": 10,
     "metadata": {},
     "output_type": "execute_result"
    }
   ],
   "source": [
    "# GB Hyperparameter Tuning \n",
    "gb_tuning = GradientBoostingClassifier(random_state = seed)\n",
    "grid_params = {\n",
    "   'n_estimators': [100,200,300,350],\n",
    "   'max_depth' : [4,5,6,7],\n",
    "   'learning_rate' : [0.2,0.3,0.4]}\n",
    "gridCV = GridSearchCV(estimator=gb_tuning, param_grid=grid_params)\n",
    "gridCV.fit(x_train, y_train)\n",
    "gridCV.best_params_ "
   ]
  },
  {
   "cell_type": "code",
   "execution_count": 11,
   "id": "1c5f4cc2",
   "metadata": {},
   "outputs": [
    {
     "name": "stdout",
     "output_type": "stream",
     "text": [
      "Gradient Boosting Accuracy: 0.9812898775650974\n",
      "Gradient Boosting Precision: 0.98328025477707\n",
      "Gradient Boosting Recall: 0.9737827715355806\n",
      "Gradient Boosting F1_score: 0.9785084678617412\n"
     ]
    }
   ],
   "source": [
    "# Gradient Boosting with tuned hyperparameters\n",
    "gb = GradientBoostingClassifier(random_state = seed, n_estimators=350, max_depth=4, learning_rate=0.2)\n",
    "gb.fit(x_train, y_train)\n",
    "ypred_gb = gb.predict(x_test)\n",
    "\n",
    "accuracy_gb = metrics.accuracy_score(y_test, ypred_gb) \n",
    "precision_gb = metrics.precision_score(y_test, ypred_gb)\n",
    "recall_gb = metrics.recall_score(y_test, ypred_gb)\n",
    "f1_score_gb = metrics.f1_score(y_test, ypred_gb) \n",
    "\n",
    "print(\"Gradient Boosting Accuracy:\", accuracy_gb)\n",
    "print(\"Gradient Boosting Precision:\", precision_gb)\n",
    "print(\"Gradient Boosting Recall:\", recall_gb)\n",
    "print(\"Gradient Boosting F1_score:\", f1_score_gb)"
   ]
  },
  {
   "cell_type": "code",
   "execution_count": 4,
   "id": "fec40949",
   "metadata": {},
   "outputs": [
    {
     "name": "stdout",
     "output_type": "stream",
     "text": [
      "Random Forest Accuracy: 0.9755992412484911\n",
      "Random Forest Precision: 0.9776625448743518\n",
      "Random Forest Recall: 0.9662921348314607\n",
      "Random Forest F1_score: 0.9719440864479033\n"
     ]
    }
   ],
   "source": [
    "# Random Forest \n",
    "rf = RandomForestClassifier(random_state=seed)\n",
    "rf.fit(x_train, y_train)\n",
    "ypred_rf = rf.predict(x_test)\n",
    "\n",
    "accuracy_rf = metrics.accuracy_score(y_test, ypred_rf) \n",
    "precision_rf = metrics.precision_score(y_test, ypred_rf)\n",
    "recall_rf = metrics.recall_score(y_test, ypred_rf)\n",
    "f1_score_rf = metrics.f1_score(y_test, ypred_rf) \n",
    "\n",
    "print(\"Random Forest Accuracy:\", accuracy_rf)\n",
    "print(\"Random Forest Precision:\", precision_rf)\n",
    "print(\"Random Forest Recall:\", recall_rf)\n",
    "print(\"Random Forest F1_score:\", f1_score_rf)"
   ]
  },
  {
   "cell_type": "code",
   "execution_count": 8,
   "id": "c764f40c",
   "metadata": {},
   "outputs": [
    {
     "data": {
      "text/plain": [
       "{'max_depth': 8, 'max_features': 'auto', 'n_estimators': 300}"
      ]
     },
     "execution_count": 8,
     "metadata": {},
     "output_type": "execute_result"
    }
   ],
   "source": [
    "# RF Hyperparameter Tuning \n",
    "rf_tuning = RandomForestClassifier(random_state = seed)\n",
    "grid_params = {\n",
    "   'n_estimators': [100,200,300,350],\n",
    "   'max_features': ['auto', None],\n",
    "   'max_depth' : [5,6,7,8]}\n",
    "gridCV = GridSearchCV(estimator=rf_tuning, param_grid=grid_params, cv=5)\n",
    "gridCV.fit(x_train, y_train)\n",
    "gridCV.best_params_ "
   ]
  },
  {
   "cell_type": "code",
   "execution_count": 12,
   "id": "6b64f681",
   "metadata": {},
   "outputs": [
    {
     "name": "stdout",
     "output_type": "stream",
     "text": [
      "Random Forest Accuracy: 0.9730988101396792\n",
      "Random Forest Precision: 0.9771497294046904\n",
      "Random Forest Recall: 0.960969840331165\n",
      "Random Forest F1_score: 0.9689922480620156\n"
     ]
    }
   ],
   "source": [
    "# Random Forest with tuned hyperparameters\n",
    "rf = RandomForestClassifier(random_state=seed, n_estimators=300, max_features='auto', max_depth=8)\n",
    "rf.fit(x_train, y_train)\n",
    "ypred_rf = rf.predict(x_test)\n",
    "\n",
    "accuracy_rf = metrics.accuracy_score(y_test, ypred_rf) \n",
    "precision_rf = metrics.precision_score(y_test, ypred_rf)\n",
    "recall_rf = metrics.recall_score(y_test, ypred_rf)\n",
    "f1_score_rf = metrics.f1_score(y_test, ypred_rf) \n",
    "\n",
    "print(\"Random Forest Accuracy:\", accuracy_rf)\n",
    "print(\"Random Forest Precision:\", precision_rf)\n",
    "print(\"Random Forest Recall:\", recall_rf)\n",
    "print(\"Random Forest F1_score:\", f1_score_rf)"
   ]
  },
  {
   "cell_type": "code",
   "execution_count": null,
   "id": "52cbfa5b",
   "metadata": {},
   "outputs": [],
   "source": []
  }
 ],
 "metadata": {
  "kernelspec": {
   "display_name": "Python 3 (ipykernel)",
   "language": "python",
   "name": "python3"
  },
  "language_info": {
   "codemirror_mode": {
    "name": "ipython",
    "version": 3
   },
   "file_extension": ".py",
   "mimetype": "text/x-python",
   "name": "python",
   "nbconvert_exporter": "python",
   "pygments_lexer": "ipython3",
   "version": "3.9.13"
  }
 },
 "nbformat": 4,
 "nbformat_minor": 5
}
