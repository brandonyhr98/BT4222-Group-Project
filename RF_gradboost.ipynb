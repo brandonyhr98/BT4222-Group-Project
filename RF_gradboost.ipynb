{
 "cells": [
  {
   "cell_type": "code",
   "execution_count": 1,
   "id": "54f4fb53",
   "metadata": {},
   "outputs": [],
   "source": [
    "import pandas as pd\n",
    "import numpy as np\n",
    "import matplotlib.pyplot as plt\n",
    "from sklearn import metrics \n",
    "from sklearn.model_selection import GridSearchCV, cross_val_score, train_test_split, RandomizedSearchCV\n",
    "from sklearn.ensemble import GradientBoostingClassifier, RandomForestRegressor\n",
    "from sklearn.metrics import mean_squared_error as MSE "
   ]
  },
  {
   "cell_type": "code",
   "execution_count": 2,
   "id": "7ab42bc2",
   "metadata": {},
   "outputs": [],
   "source": [
    "data = pd.read_csv(\"processed_data.csv\")\n",
    "\n",
    "# seed for random state\n",
    "seed = 49"
   ]
  },
  {
   "cell_type": "code",
   "execution_count": 3,
   "id": "fdd11791",
   "metadata": {},
   "outputs": [],
   "source": [
    "#drop unwanted features\n",
    "data = data.drop(['title', 'text', 'text_without_stopwords', 'title_without_stopwords','syllables', 'polarity_category', 'overall_content', 'polarity'], axis=1)\n",
    "x = data.iloc[:,1:]\n",
    "y = data['class']\n",
    "x_train, x_test, y_train, y_test = train_test_split(x, y, test_size=0.3, random_state = seed)"
   ]
  },
  {
   "cell_type": "code",
   "execution_count": 4,
   "id": "e3315e10",
   "metadata": {},
   "outputs": [
    {
     "name": "stdout",
     "output_type": "stream",
     "text": [
      "GB Accuracy: 0.9773236764959475\n",
      "GB Precision: 0.9840982286634461\n",
      "GB Recall: 0.9637295485905776\n",
      "GB F1_score: 0.9738073897022209\n"
     ]
    }
   ],
   "source": [
    "# Gradient Boosting\n",
    "gb = GradientBoostingClassifier(random_state = seed)\n",
    "gb.fit(x_train, y_train)\n",
    "ypred_gb = gb.predict(x_test)\n",
    "\n",
    "accuracy_gb = metrics.accuracy_score(y_test, ypred_gb) \n",
    "precision_gb = metrics.precision_score(y_test, ypred_gb)\n",
    "recall_gb = metrics.recall_score(y_test, ypred_gb)\n",
    "f1_score_gb = metrics.f1_score(y_test, ypred_gb) \n",
    "\n",
    "print(\"GB Accuracy:\", accuracy_gb)\n",
    "print(\"GB Precision:\", precision_gb)\n",
    "print(\"GB Recall:\", recall_gb)\n",
    "print(\"GB F1_score:\", f1_score_gb)"
   ]
  },
  {
   "cell_type": "code",
   "execution_count": 9,
   "id": "a6cb33bf",
   "metadata": {},
   "outputs": [
    {
     "data": {
      "text/plain": [
       "{'learning_rate': 0.3, 'max_depth': 4, 'n_estimators': 150}"
      ]
     },
     "execution_count": 9,
     "metadata": {},
     "output_type": "execute_result"
    }
   ],
   "source": [
    "# GB Hyperparameter Tuning \n",
    "gb_tuning = GradientBoostingClassifier(random_state = seed)\n",
    "grid_params = {\n",
    "   'n_estimators': [50,100,150],\n",
    "   'max_depth' : [3,4,5],\n",
    "   'learning_rate' : [0.2,0.3,0.4]}\n",
    "gridCV = GridSearchCV(estimator=gb_tuning, param_grid=grid_params)\n",
    "gridCV.fit(x_train, y_train)\n",
    "gridCV.best_params_ "
   ]
  },
  {
   "cell_type": "code",
   "execution_count": 11,
   "id": "1c5f4cc2",
   "metadata": {},
   "outputs": [
    {
     "name": "stdout",
     "output_type": "stream",
     "text": [
      "GB Accuracy: 0.9799103293671323\n",
      "GB Precision: 0.9818797291915572\n",
      "GB Recall: 0.9720086733688152\n",
      "GB F1_score: 0.9769192669638435\n"
     ]
    }
   ],
   "source": [
    "# Gradient Boosting with tuned hyperparameters\n",
    "gb = GradientBoostingClassifier(random_state = seed, n_estimators=150, max_depth=4, learning_rate=0.3)\n",
    "gb.fit(x_train, y_train)\n",
    "ypred_gb = gb.predict(x_test)\n",
    "\n",
    "accuracy_gb = metrics.accuracy_score(y_test, ypred_gb) \n",
    "precision_gb = metrics.precision_score(y_test, ypred_gb)\n",
    "recall_gb = metrics.recall_score(y_test, ypred_gb)\n",
    "f1_score_gb = metrics.f1_score(y_test, ypred_gb) \n",
    "\n",
    "print(\"GB Accuracy:\", accuracy_gb)\n",
    "print(\"GB Precision:\", precision_gb)\n",
    "print(\"GB Recall:\", recall_gb)\n",
    "print(\"GB F1_score:\", f1_score_gb)"
   ]
  },
  {
   "cell_type": "code",
   "execution_count": 34,
   "id": "fec40949",
   "metadata": {},
   "outputs": [
    {
     "data": {
      "text/plain": [
       "0.1423945624515253"
      ]
     },
     "execution_count": 34,
     "metadata": {},
     "output_type": "execute_result"
    }
   ],
   "source": [
    "# Random Forest \n",
    "rf = RandomForestRegressor(random_state=seed)\n",
    "rf.fit(x_train, y_train)\n",
    "ypred_rf = rf.predict(x_test)\n",
    "\n",
    "rmse_rf = MSE(y_test, ypred_rf)**0.5\n",
    "print(\"RF rmse:\", rmse_rf)"
   ]
  },
  {
   "cell_type": "code",
   "execution_count": 16,
   "id": "c764f40c",
   "metadata": {},
   "outputs": [
    {
     "data": {
      "text/plain": [
       "{'max_depth': 8, 'max_features': 'auto', 'n_estimators': 150}"
      ]
     },
     "execution_count": 16,
     "metadata": {},
     "output_type": "execute_result"
    }
   ],
   "source": [
    "# RF Hyperparameter Tuning \n",
    "rf_tuning = RandomForestRegressor(random_state = seed)\n",
    "grid_params = {\n",
    "   'n_estimators': [100,150,200],\n",
    "   'max_features': ['auto', None],\n",
    "   'max_depth' : [6,7,8]}\n",
    "gridCV = GridSearchCV(estimator=rf_tuning, param_grid=grid_params, cv=5)\n",
    "gridCV.fit(x_train, y_train)\n",
    "gridCV.best_params_ "
   ]
  },
  {
   "cell_type": "code",
   "execution_count": 17,
   "id": "6b64f681",
   "metadata": {},
   "outputs": [
    {
     "name": "stdout",
     "output_type": "stream",
     "text": [
      "RF rmse: 0.15406777979850128\n"
     ]
    }
   ],
   "source": [
    "# Random Forest with tuned hyperparameters\n",
    "rf = RandomForestRegressor(random_state=seed, n_estimators=150, max_features='auto', max_depth=8)\n",
    "rf.fit(x_train, y_train)\n",
    "ypred_rf = rf.predict(x_test)\n",
    "\n",
    "rmse_rf = MSE(y_test, ypred_rf)**0.5\n",
    "print(\"RF rmse:\", rmse_rf)"
   ]
  },
  {
   "cell_type": "code",
   "execution_count": null,
   "id": "52cbfa5b",
   "metadata": {},
   "outputs": [],
   "source": []
  },
  {
   "cell_type": "code",
   "execution_count": null,
   "id": "a9ff561d",
   "metadata": {},
   "outputs": [],
   "source": []
  }
 ],
 "metadata": {
  "kernelspec": {
   "display_name": "Python 3 (ipykernel)",
   "language": "python",
   "name": "python3"
  },
  "language_info": {
   "codemirror_mode": {
    "name": "ipython",
    "version": 3
   },
   "file_extension": ".py",
   "mimetype": "text/x-python",
   "name": "python",
   "nbconvert_exporter": "python",
   "pygments_lexer": "ipython3",
   "version": "3.9.13"
  }
 },
 "nbformat": 4,
 "nbformat_minor": 5
}
