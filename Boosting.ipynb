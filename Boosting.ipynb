{
 "cells": [
  {
   "cell_type": "code",
   "execution_count": 123,
   "metadata": {},
   "outputs": [],
   "source": [
    "import pandas as pd\n",
    "data = pd.read_csv(\"master_dataset/processed_data.csv\")\n",
    "#list(data.columns)\n",
    "#drop unwanted features\n",
    "data = data.drop(['title', 'text', 'subject', 'date', 'text_without_stopwords', 'title_without_stopwords','syllables', 'polarity_category', 'overall_content', 'polarity',\n",
    "#'Topic 1 Probability', 'Topic 2 Probability', 'Topic 3 Probbility' , 'Topic 4 Probability' ,'Topic 5 Probability',\n",
    "'title_word_count', 'title_sentence_count', 'title_average_word_length','title_punctuation_count', 'title_stopwords_count'], axis=1)  "
   ]
  },
  {
   "cell_type": "code",
   "execution_count": 124,
   "metadata": {},
   "outputs": [
    {
     "data": {
      "text/plain": [
       "0    21196\n",
       "1    17462\n",
       "Name: class, dtype: int64"
      ]
     },
     "execution_count": 124,
     "metadata": {},
     "output_type": "execute_result"
    }
   ],
   "source": [
    "#dataset is slightly imbalanced so we will perform upsampling to balance the dataset.\n",
    "data['class'].value_counts()"
   ]
  },
  {
   "cell_type": "code",
   "execution_count": 125,
   "metadata": {},
   "outputs": [
    {
     "data": {
      "text/plain": [
       "['class',\n",
       " 'text_word_count',\n",
       " 'text_sentence_count',\n",
       " 'text_average_word_length',\n",
       " 'text_punctuation_count',\n",
       " 'text_stopwords_count',\n",
       " 'flesch_readability',\n",
       " 'subjectivity',\n",
       " 'Topic 1 Probability',\n",
       " 'Topic 2 Probability',\n",
       " 'Topic 3 Probbility',\n",
       " 'Topic 4 Probability',\n",
       " 'Topic 5 Probability',\n",
       " 'polarity_category_Neutral',\n",
       " 'polarity_category_Positive']"
      ]
     },
     "execution_count": 125,
     "metadata": {},
     "output_type": "execute_result"
    }
   ],
   "source": [
    "list(data.columns)"
   ]
  },
  {
   "cell_type": "code",
   "execution_count": 126,
   "metadata": {},
   "outputs": [
    {
     "data": {
      "text/html": [
       "<div>\n",
       "<style scoped>\n",
       "    .dataframe tbody tr th:only-of-type {\n",
       "        vertical-align: middle;\n",
       "    }\n",
       "\n",
       "    .dataframe tbody tr th {\n",
       "        vertical-align: top;\n",
       "    }\n",
       "\n",
       "    .dataframe thead th {\n",
       "        text-align: right;\n",
       "    }\n",
       "</style>\n",
       "<table border=\"1\" class=\"dataframe\">\n",
       "  <thead>\n",
       "    <tr style=\"text-align: right;\">\n",
       "      <th></th>\n",
       "      <th>class</th>\n",
       "      <th>text_word_count</th>\n",
       "      <th>text_sentence_count</th>\n",
       "      <th>text_average_word_length</th>\n",
       "      <th>text_punctuation_count</th>\n",
       "      <th>text_stopwords_count</th>\n",
       "      <th>flesch_readability</th>\n",
       "      <th>subjectivity</th>\n",
       "      <th>Topic 1 Probability</th>\n",
       "      <th>Topic 2 Probability</th>\n",
       "      <th>Topic 3 Probbility</th>\n",
       "      <th>Topic 4 Probability</th>\n",
       "      <th>Topic 5 Probability</th>\n",
       "      <th>polarity_category_Neutral</th>\n",
       "      <th>polarity_category_Positive</th>\n",
       "    </tr>\n",
       "  </thead>\n",
       "  <tbody>\n",
       "    <tr>\n",
       "      <th>0</th>\n",
       "      <td>1</td>\n",
       "      <td>516</td>\n",
       "      <td>28</td>\n",
       "      <td>4.804040</td>\n",
       "      <td>121</td>\n",
       "      <td>186</td>\n",
       "      <td>0.523532</td>\n",
       "      <td>0.599895</td>\n",
       "      <td>0.002194</td>\n",
       "      <td>0.747636</td>\n",
       "      <td>0.001007</td>\n",
       "      <td>0.157660</td>\n",
       "      <td>0.091503</td>\n",
       "      <td>0</td>\n",
       "      <td>1</td>\n",
       "    </tr>\n",
       "    <tr>\n",
       "      <th>1</th>\n",
       "      <td>1</td>\n",
       "      <td>309</td>\n",
       "      <td>11</td>\n",
       "      <td>5.213115</td>\n",
       "      <td>39</td>\n",
       "      <td>119</td>\n",
       "      <td>-0.005318</td>\n",
       "      <td>0.334098</td>\n",
       "      <td>0.064904</td>\n",
       "      <td>0.244962</td>\n",
       "      <td>0.557051</td>\n",
       "      <td>0.002320</td>\n",
       "      <td>0.130763</td>\n",
       "      <td>1</td>\n",
       "      <td>0</td>\n",
       "    </tr>\n",
       "    <tr>\n",
       "      <th>2</th>\n",
       "      <td>1</td>\n",
       "      <td>600</td>\n",
       "      <td>25</td>\n",
       "      <td>5.168966</td>\n",
       "      <td>148</td>\n",
       "      <td>209</td>\n",
       "      <td>0.262617</td>\n",
       "      <td>0.541969</td>\n",
       "      <td>0.002488</td>\n",
       "      <td>0.433611</td>\n",
       "      <td>0.281460</td>\n",
       "      <td>0.001917</td>\n",
       "      <td>0.280524</td>\n",
       "      <td>1</td>\n",
       "      <td>0</td>\n",
       "    </tr>\n",
       "    <tr>\n",
       "      <th>3</th>\n",
       "      <td>1</td>\n",
       "      <td>475</td>\n",
       "      <td>15</td>\n",
       "      <td>5.180180</td>\n",
       "      <td>118</td>\n",
       "      <td>160</td>\n",
       "      <td>0.180632</td>\n",
       "      <td>0.394086</td>\n",
       "      <td>0.002963</td>\n",
       "      <td>0.788261</td>\n",
       "      <td>0.204377</td>\n",
       "      <td>0.002290</td>\n",
       "      <td>0.002109</td>\n",
       "      <td>1</td>\n",
       "      <td>0</td>\n",
       "    </tr>\n",
       "    <tr>\n",
       "      <th>4</th>\n",
       "      <td>1</td>\n",
       "      <td>434</td>\n",
       "      <td>19</td>\n",
       "      <td>4.554762</td>\n",
       "      <td>40</td>\n",
       "      <td>195</td>\n",
       "      <td>0.621461</td>\n",
       "      <td>0.495222</td>\n",
       "      <td>0.292172</td>\n",
       "      <td>0.327938</td>\n",
       "      <td>0.001138</td>\n",
       "      <td>0.020911</td>\n",
       "      <td>0.357842</td>\n",
       "      <td>1</td>\n",
       "      <td>0</td>\n",
       "    </tr>\n",
       "    <tr>\n",
       "      <th>...</th>\n",
       "      <td>...</td>\n",
       "      <td>...</td>\n",
       "      <td>...</td>\n",
       "      <td>...</td>\n",
       "      <td>...</td>\n",
       "      <td>...</td>\n",
       "      <td>...</td>\n",
       "      <td>...</td>\n",
       "      <td>...</td>\n",
       "      <td>...</td>\n",
       "      <td>...</td>\n",
       "      <td>...</td>\n",
       "      <td>...</td>\n",
       "      <td>...</td>\n",
       "      <td>...</td>\n",
       "    </tr>\n",
       "    <tr>\n",
       "      <th>38653</th>\n",
       "      <td>0</td>\n",
       "      <td>482</td>\n",
       "      <td>15</td>\n",
       "      <td>5.008639</td>\n",
       "      <td>68</td>\n",
       "      <td>179</td>\n",
       "      <td>0.164343</td>\n",
       "      <td>0.447884</td>\n",
       "      <td>0.914667</td>\n",
       "      <td>0.001589</td>\n",
       "      <td>0.001079</td>\n",
       "      <td>0.081064</td>\n",
       "      <td>0.001601</td>\n",
       "      <td>0</td>\n",
       "      <td>1</td>\n",
       "    </tr>\n",
       "    <tr>\n",
       "      <th>38654</th>\n",
       "      <td>0</td>\n",
       "      <td>131</td>\n",
       "      <td>6</td>\n",
       "      <td>5.336066</td>\n",
       "      <td>15</td>\n",
       "      <td>45</td>\n",
       "      <td>0.094151</td>\n",
       "      <td>0.077778</td>\n",
       "      <td>0.131316</td>\n",
       "      <td>0.004004</td>\n",
       "      <td>0.530149</td>\n",
       "      <td>0.330457</td>\n",
       "      <td>0.004075</td>\n",
       "      <td>1</td>\n",
       "      <td>0</td>\n",
       "    </tr>\n",
       "    <tr>\n",
       "      <th>38655</th>\n",
       "      <td>0</td>\n",
       "      <td>334</td>\n",
       "      <td>16</td>\n",
       "      <td>5.044164</td>\n",
       "      <td>45</td>\n",
       "      <td>127</td>\n",
       "      <td>0.317218</td>\n",
       "      <td>0.426609</td>\n",
       "      <td>0.105075</td>\n",
       "      <td>0.002268</td>\n",
       "      <td>0.001528</td>\n",
       "      <td>0.172448</td>\n",
       "      <td>0.718681</td>\n",
       "      <td>0</td>\n",
       "      <td>1</td>\n",
       "    </tr>\n",
       "    <tr>\n",
       "      <th>38656</th>\n",
       "      <td>0</td>\n",
       "      <td>210</td>\n",
       "      <td>8</td>\n",
       "      <td>4.806931</td>\n",
       "      <td>18</td>\n",
       "      <td>81</td>\n",
       "      <td>0.380865</td>\n",
       "      <td>0.377753</td>\n",
       "      <td>0.957421</td>\n",
       "      <td>0.003175</td>\n",
       "      <td>0.002141</td>\n",
       "      <td>0.003484</td>\n",
       "      <td>0.033779</td>\n",
       "      <td>1</td>\n",
       "      <td>0</td>\n",
       "    </tr>\n",
       "    <tr>\n",
       "      <th>38657</th>\n",
       "      <td>0</td>\n",
       "      <td>209</td>\n",
       "      <td>9</td>\n",
       "      <td>5.362319</td>\n",
       "      <td>27</td>\n",
       "      <td>66</td>\n",
       "      <td>-0.119318</td>\n",
       "      <td>0.194372</td>\n",
       "      <td>0.505384</td>\n",
       "      <td>0.002407</td>\n",
       "      <td>0.001638</td>\n",
       "      <td>0.388642</td>\n",
       "      <td>0.101929</td>\n",
       "      <td>1</td>\n",
       "      <td>0</td>\n",
       "    </tr>\n",
       "  </tbody>\n",
       "</table>\n",
       "<p>38658 rows × 15 columns</p>\n",
       "</div>"
      ],
      "text/plain": [
       "       class  text_word_count  text_sentence_count  text_average_word_length  \\\n",
       "0          1              516                   28                  4.804040   \n",
       "1          1              309                   11                  5.213115   \n",
       "2          1              600                   25                  5.168966   \n",
       "3          1              475                   15                  5.180180   \n",
       "4          1              434                   19                  4.554762   \n",
       "...      ...              ...                  ...                       ...   \n",
       "38653      0              482                   15                  5.008639   \n",
       "38654      0              131                    6                  5.336066   \n",
       "38655      0              334                   16                  5.044164   \n",
       "38656      0              210                    8                  4.806931   \n",
       "38657      0              209                    9                  5.362319   \n",
       "\n",
       "       text_punctuation_count  text_stopwords_count  flesch_readability  \\\n",
       "0                         121                   186            0.523532   \n",
       "1                          39                   119           -0.005318   \n",
       "2                         148                   209            0.262617   \n",
       "3                         118                   160            0.180632   \n",
       "4                          40                   195            0.621461   \n",
       "...                       ...                   ...                 ...   \n",
       "38653                      68                   179            0.164343   \n",
       "38654                      15                    45            0.094151   \n",
       "38655                      45                   127            0.317218   \n",
       "38656                      18                    81            0.380865   \n",
       "38657                      27                    66           -0.119318   \n",
       "\n",
       "       subjectivity  Topic 1 Probability  Topic 2 Probability  \\\n",
       "0          0.599895             0.002194             0.747636   \n",
       "1          0.334098             0.064904             0.244962   \n",
       "2          0.541969             0.002488             0.433611   \n",
       "3          0.394086             0.002963             0.788261   \n",
       "4          0.495222             0.292172             0.327938   \n",
       "...             ...                  ...                  ...   \n",
       "38653      0.447884             0.914667             0.001589   \n",
       "38654      0.077778             0.131316             0.004004   \n",
       "38655      0.426609             0.105075             0.002268   \n",
       "38656      0.377753             0.957421             0.003175   \n",
       "38657      0.194372             0.505384             0.002407   \n",
       "\n",
       "       Topic 3 Probbility  Topic 4 Probability  Topic 5 Probability  \\\n",
       "0                0.001007             0.157660             0.091503   \n",
       "1                0.557051             0.002320             0.130763   \n",
       "2                0.281460             0.001917             0.280524   \n",
       "3                0.204377             0.002290             0.002109   \n",
       "4                0.001138             0.020911             0.357842   \n",
       "...                   ...                  ...                  ...   \n",
       "38653            0.001079             0.081064             0.001601   \n",
       "38654            0.530149             0.330457             0.004075   \n",
       "38655            0.001528             0.172448             0.718681   \n",
       "38656            0.002141             0.003484             0.033779   \n",
       "38657            0.001638             0.388642             0.101929   \n",
       "\n",
       "       polarity_category_Neutral  polarity_category_Positive  \n",
       "0                              0                           1  \n",
       "1                              1                           0  \n",
       "2                              1                           0  \n",
       "3                              1                           0  \n",
       "4                              1                           0  \n",
       "...                          ...                         ...  \n",
       "38653                          0                           1  \n",
       "38654                          1                           0  \n",
       "38655                          0                           1  \n",
       "38656                          1                           0  \n",
       "38657                          1                           0  \n",
       "\n",
       "[38658 rows x 15 columns]"
      ]
     },
     "execution_count": 126,
     "metadata": {},
     "output_type": "execute_result"
    }
   ],
   "source": [
    "data"
   ]
  },
  {
   "cell_type": "code",
   "execution_count": 127,
   "metadata": {},
   "outputs": [
    {
     "data": {
      "text/plain": [
       "0    12717\n",
       "1    12717\n",
       "Name: class, dtype: int64"
      ]
     },
     "execution_count": 127,
     "metadata": {},
     "output_type": "execute_result"
    }
   ],
   "source": [
    "#Split the dataset train,validation and test sets\n",
    "from sklearn import preprocessing\n",
    "from sklearn.model_selection import train_test_split\n",
    "x = data.iloc[:,1:]\n",
    "y = data.iloc[:,:1]\n",
    "\n",
    "#first split dataset into train and test sets\n",
    "x_train, x_test, y_train, y_test = train_test_split(x, y, test_size = 0.2, random_state = 4222)\n",
    "\n",
    "x_train, x_validation, y_train, y_validation = train_test_split(x_train, y_train, test_size = 0.25, random_state = 4222)\n",
    "\n",
    "#balance x_train with oversampling\n",
    "from imblearn.over_sampling import RandomOverSampler\n",
    "oversample = RandomOverSampler(sampling_strategy = 1)\n",
    "x_train,y_train = oversample.fit_resample(x_train, y_train)\n",
    "data = pd.concat([x_train,y_train],axis = 1)\n",
    "\n",
    "#check that train set is oversampled\n",
    "data['class'].value_counts()\n",
    "\n",
    "#Ensemble methods such as XGBoost and AdaBoost do not require feature scaling."
   ]
  },
  {
   "attachments": {},
   "cell_type": "markdown",
   "metadata": {},
   "source": [
    "AdaBoost"
   ]
  },
  {
   "cell_type": "code",
   "execution_count": 128,
   "metadata": {},
   "outputs": [
    {
     "name": "stdout",
     "output_type": "stream",
     "text": [
      "Performance on Validation set:\n",
      "Accuracy: 0.8635540610450078\n",
      "Precision: 0.8357714601159261\n",
      "Recall: 0.8681192660550459\n",
      "F1_score: 0.8516383068485446\n",
      "-------------------------------\n",
      "Performance on  Test set:\n",
      "Accuracy: 0.8751939989653389\n",
      "Precision: 0.8497237569060774\n",
      "Recall: 0.8796110952244781\n",
      "F1_score: 0.8644091611634115\n"
     ]
    }
   ],
   "source": [
    "from sklearn.ensemble import AdaBoostClassifier\n",
    "from sklearn import metrics\n",
    "import numpy as np\n",
    "\n",
    "#Ada Boost baseline model\n",
    "# we will use unscaled x_train and x_test sets here.\n",
    "\n",
    "ada_boost = AdaBoostClassifier( random_state = 4222)\n",
    "ada_boost.fit(x_train, np.ravel(y_train))\n",
    "y_pred_ada_boost = ada_boost.predict(x_validation)\n",
    "\n",
    "#validation metrics\n",
    "print(\"Performance on Validation set:\")\n",
    "print(\"Accuracy:\", metrics.accuracy_score(y_validation, y_pred_ada_boost))\n",
    "print(\"Precision:\", metrics.precision_score(y_validation, y_pred_ada_boost))\n",
    "print(\"Recall:\",metrics.recall_score(y_validation, y_pred_ada_boost))\n",
    "print(\"F1_score:\", metrics.f1_score(y_validation, y_pred_ada_boost))\n",
    "print(\"-------------------------------\")\n",
    "#test metrics\n",
    "y_pred_ada_boost = ada_boost.predict(x_test)\n",
    "print(\"Performance on  Test set:\")\n",
    "print(\"Accuracy:\", metrics.accuracy_score(y_test, y_pred_ada_boost))\n",
    "print(\"Precision:\", metrics.precision_score(y_test, y_pred_ada_boost))\n",
    "print(\"Recall:\",metrics.recall_score(y_test, y_pred_ada_boost))\n",
    "print(\"F1_score:\", metrics.f1_score(y_test, y_pred_ada_boost))"
   ]
  },
  {
   "cell_type": "code",
   "execution_count": 135,
   "metadata": {},
   "outputs": [
    {
     "data": {
      "text/plain": [
       "<Axes: >"
      ]
     },
     "execution_count": 135,
     "metadata": {},
     "output_type": "execute_result"
    },
    {
     "data": {
      "image/png": "[encoded data removed]",
      "text/plain": [
       "<Figure size 1200x600 with 1 Axes>"
      ]
     },
     "metadata": {},
     "output_type": "display_data"
    }
   ],
   "source": [
    "import matplotlib.pyplot as plt\n",
    "\n",
    "# Get feature importances from the model\n",
    "importances = ada_boost.feature_importances_\n",
    "\n",
    "feat_importances = pd.DataFrame(ada_boost.feature_importances_, index=x_train.columns, columns=[\"Importance\"])\n",
    "feat_importances.sort_values(by='Importance', ascending=False, inplace=True)\n",
    "feat_importances.plot(kind='bar', figsize=(12,6))\n"
   ]
  },
  {
   "cell_type": "code",
   "execution_count": 130,
   "metadata": {},
   "outputs": [
    {
     "name": "stdout",
     "output_type": "stream",
     "text": [
      "Best Hyper Parameters:  {'algorithm': 'SAMME.R', 'learning_rate': 1, 'n_estimators': 1000}\n"
     ]
    }
   ],
   "source": [
    "#hyperparameter tuning with gridsearch for Ada Boost\n",
    "from sklearn.model_selection import GridSearchCV\n",
    "\n",
    "grid_params = {\n",
    "    'n_estimators': [50, 100, 200,500,1000],\n",
    "    'learning_rate': [0.01, 0.1, 0.5, 1, 10],\n",
    "    'algorithm': ['SAMME', 'SAMME.R'],\n",
    "}\n",
    "scorer = metrics.make_scorer(metrics.f1_score)\n",
    "\n",
    "gridCV = GridSearchCV(AdaBoostClassifier(random_state = 4222), param_grid = grid_params, cv = 5, scoring = scorer, n_jobs=-1)\n",
    "gridCV.fit(x_train,np.ravel(y_train))\n",
    "print(\"Best Hyper Parameters: \", gridCV.best_params_)"
   ]
  },
  {
   "cell_type": "code",
   "execution_count": 131,
   "metadata": {},
   "outputs": [
    {
     "name": "stdout",
     "output_type": "stream",
     "text": [
      "Performance on Validation set:\n",
      "Accuracy: 0.9004138644593895\n",
      "Precision: 0.8815272318921954\n",
      "Recall: 0.9002293577981652\n",
      "F1_score: 0.8907801418439716\n",
      "-------------------------------\n",
      "Performance on  Test set:\n",
      "Accuracy: 0.9049405069839628\n",
      "Precision: 0.8883577052868391\n",
      "Recall: 0.9033457249070632\n",
      "F1_score: 0.8957890259464059\n"
     ]
    }
   ],
   "source": [
    "ada_boost = AdaBoostClassifier( algorithm= 'SAMME.R', learning_rate= 1, n_estimators= 1000, random_state = 1)\n",
    "ada_boost.fit(x_train, np.ravel(y_train))\n",
    "y_pred_ada_boost = ada_boost.predict(x_validation)\n",
    "\n",
    "#validation metrics\n",
    "print(\"Performance on Validation set:\")\n",
    "print(\"Accuracy:\", metrics.accuracy_score(y_validation, y_pred_ada_boost))\n",
    "print(\"Precision:\", metrics.precision_score(y_validation, y_pred_ada_boost))\n",
    "print(\"Recall:\",metrics.recall_score(y_validation, y_pred_ada_boost))\n",
    "print(\"F1_score:\", metrics.f1_score(y_validation, y_pred_ada_boost))\n",
    "print(\"-------------------------------\")\n",
    "#test metrics\n",
    "y_pred_ada_boost = ada_boost.predict(x_test)\n",
    "print(\"Performance on  Test set:\")\n",
    "print(\"Accuracy:\", metrics.accuracy_score(y_test, y_pred_ada_boost))\n",
    "print(\"Precision:\", metrics.precision_score(y_test, y_pred_ada_boost))\n",
    "print(\"Recall:\",metrics.recall_score(y_test, y_pred_ada_boost))\n",
    "print(\"F1_score:\", metrics.f1_score(y_test, y_pred_ada_boost))"
   ]
  },
  {
   "attachments": {},
   "cell_type": "markdown",
   "metadata": {},
   "source": [
    "XGBoost"
   ]
  },
  {
   "cell_type": "code",
   "execution_count": 146,
   "metadata": {},
   "outputs": [
    {
     "name": "stdout",
     "output_type": "stream",
     "text": [
      "Performance on Validation set:\n",
      "Accuracy: 0.9204604242110709\n",
      "Precision: 0.907286645874681\n",
      "Recall: 0.9174311926605505\n",
      "F1_score: 0.9123307198859587\n",
      "-------------------------------\n",
      "Performance on  Test set:\n",
      "Accuracy: 0.9239524055871702\n",
      "Precision: 0.9156901971991998\n",
      "Recall: 0.916213897626537\n",
      "F1_score: 0.9159519725557461\n"
     ]
    }
   ],
   "source": [
    "import xgboost as xgb\n",
    "import numpy as np\n",
    "xg_reg = xgb.XGBRegressor(objective = 'binary:logistic') \n",
    "xg_reg.fit(x_train,np.ravel(y_train))\n",
    "\n",
    "#validation metrics\n",
    "y_pred_xg = xg_reg.predict(x_validation)\n",
    "y_pred_xg = np.where(y_pred_xg > 0.5, 1, 0)\n",
    "\n",
    "print(\"Performance on Validation set:\")\n",
    "print(\"Accuracy:\", metrics.accuracy_score(y_validation, y_pred_xg))\n",
    "print(\"Precision:\", metrics.precision_score(y_validation, y_pred_xg))\n",
    "print(\"Recall:\",metrics.recall_score(y_validation, y_pred_xg))\n",
    "print(\"F1_score:\", metrics.f1_score(y_validation, y_pred_xg))\n",
    "print(\"-------------------------------\")\n",
    "\n",
    "#test metrics\n",
    "y_pred_xg = xg_reg.predict(x_test)\n",
    "y_pred_xg = np.where(y_pred_xg > 0.5, 1, 0)\n",
    "\n",
    "print(\"Performance on  Test set:\")\n",
    "print(\"Accuracy:\", metrics.accuracy_score(y_test, y_pred_xg))\n",
    "print(\"Precision:\", metrics.precision_score(y_test, y_pred_xg))\n",
    "print(\"Recall:\",metrics.recall_score(y_test, y_pred_xg))\n",
    "print(\"F1_score:\", metrics.f1_score(y_test, y_pred_xg))"
   ]
  },
  {
   "cell_type": "code",
   "execution_count": 158,
   "metadata": {},
   "outputs": [
    {
     "name": "stdout",
     "output_type": "stream",
     "text": [
      "Fitting 3 folds for each of 1296 candidates, totalling 3888 fits\n"
     ]
    },
    {
     "name": "stderr",
     "output_type": "stream",
     "text": [
      "c:\\Users\\yj_li\\AppData\\Local\\Programs\\Python\\Python310\\lib\\site-packages\\sklearn\\model_selection\\_search.py:952: UserWarning: One or more of the test scores are non-finite: [nan nan nan ... nan nan nan]\n",
      "  warnings.warn(\n"
     ]
    },
    {
     "name": "stdout",
     "output_type": "stream",
     "text": [
      "Best Hyper Parameters:  {'colsample_bytree': 0.6, 'gamma': 0.3, 'learning_rate': 0.01, 'max_depth': 3, 'n_estimators': 50, 'subsample': 0.6}\n"
     ]
    }
   ],
   "source": [
    "#hyperparameter tuning with gridsearch for XGBoost\n",
    "from sklearn.model_selection import GridSearchCV\n",
    "\n",
    "grid_params = {\n",
    "    'n_estimators': [50, 200, 300, 400],\n",
    "    'learning_rate': [0.01, 0.3, 0.5, 1],\n",
    "    'colsample_bytree': [0.6, 0.7, 0.8],\n",
    "    'subsample': [0.6, 0.7, 0.8],\n",
    "    'gamma': [0.3, 0.4, 0.5],\n",
    "    'max_depth': [ 3, 6, 8],\n",
    "}\n",
    "scorer = metrics.make_scorer(metrics.accuracy_score)\n",
    "\n",
    "gridCV = GridSearchCV(estimator = xg_reg, param_grid = grid_params, cv = 3, scoring = 'f1_micro', n_jobs=-1, verbose = 1)\n",
    "gridCV.fit(x_train,np.ravel(y_train))\n",
    "print(\"Best Hyper Parameters: \", gridCV.best_params_)"
   ]
  },
  {
   "cell_type": "code",
   "execution_count": 157,
   "metadata": {},
   "outputs": [
    {
     "name": "stdout",
     "output_type": "stream",
     "text": [
      "Performance on Validation set:\n",
      "Accuracy: 0.902353854112778\n",
      "Precision: 0.8856900931414056\n",
      "Recall: 0.8996559633027523\n",
      "F1_score: 0.8926184042099274\n",
      "-------------------------------\n",
      "Performance on  Test set:\n",
      "Accuracy: 0.9051991722710813\n",
      "Precision: 0.8899548532731377\n",
      "Recall: 0.9019159279382327\n",
      "F1_score: 0.895895469393552\n"
     ]
    }
   ],
   "source": [
    "grid_params = {\n",
    "    'n_estimators': [50],\n",
    "    'learning_rate': [0.01],\n",
    "    'colsample_bytree': [0.6],\n",
    "    'subsample': [0.6],\n",
    "    'gamma': [0.3],\n",
    "    'max_depth': [3],\n",
    "}\n",
    "xg_reg = xgb.XGBRegressor(objective = 'binary:logistic', n_estimators = 50, learning_rate = 1, colsample_bytree = 0.6, subsample = 0.6, gamma = 0.3, max_depth = 3) \n",
    "xg_reg.fit(x_train,np.ravel(y_train))\n",
    "\n",
    "#validation metrics\n",
    "y_pred_xg = xg_reg.predict(x_validation)\n",
    "y_pred_xg = np.where(y_pred_xg > 0.5, 1, 0)\n",
    "\n",
    "print(\"Performance on Validation set:\")\n",
    "print(\"Accuracy:\", metrics.accuracy_score(y_validation, y_pred_xg))\n",
    "print(\"Precision:\", metrics.precision_score(y_validation, y_pred_xg))\n",
    "print(\"Recall:\",metrics.recall_score(y_validation, y_pred_xg))\n",
    "print(\"F1_score:\", metrics.f1_score(y_validation, y_pred_xg))\n",
    "print(\"-------------------------------\")\n",
    "\n",
    "#test metrics\n",
    "y_pred_xg = xg_reg.predict(x_test)\n",
    "y_pred_xg = np.where(y_pred_xg > 0.5, 1, 0)\n",
    "\n",
    "print(\"Performance on  Test set:\")\n",
    "print(\"Accuracy:\", metrics.accuracy_score(y_test, y_pred_xg))\n",
    "print(\"Precision:\", metrics.precision_score(y_test, y_pred_xg))\n",
    "print(\"Recall:\",metrics.recall_score(y_test, y_pred_xg))\n",
    "print(\"F1_score:\", metrics.f1_score(y_test, y_pred_xg))"
   ]
  }
 ],
 "metadata": {
  "kernelspec": {
   "display_name": "Python 3",
   "language": "python",
   "name": "python3"
  },
  "language_info": {
   "codemirror_mode": {
    "name": "ipython",
    "version": 3
   },
   "file_extension": ".py",
   "mimetype": "text/x-python",
   "name": "python",
   "nbconvert_exporter": "python",
   "pygments_lexer": "ipython3",
   "version": "3.10.4"
  },
  "orig_nbformat": 4
 },
 "nbformat": 4,
 "nbformat_minor": 2
}
